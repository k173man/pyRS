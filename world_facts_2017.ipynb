{
 "cells": [
  {
   "cell_type": "markdown",
   "id": "803194f9",
   "metadata": {
    "papermill": {
     "duration": 0.010925,
     "end_time": "2019-09-24T09:49:21.794239",
     "exception": false,
     "start_time": "2019-09-24T09:49:21.783314",
     "status": "completed"
    }
   },
   "source": [
    "In this notebook we plot the world population and the gross domestic product per country"
   ]
  },
  {
   "cell_type": "code",
   "execution_count": null,
   "id": "a2e52d59",
   "metadata": {
    "papermill": {
     "duration": 0.020995,
     "end_time": "2019-09-24T09:49:21.849334",
     "exception": false,
     "start_time": "2019-09-24T09:49:21.828339",
     "status": "completed"
    },
    "tags": [
     "parameters"
    ]
   },
   "outputs": [],
   "source": [
    "year = 2000"
   ]
  },
  {
   "cell_type": "code",
   "execution_count": null,
   "id": "7f269af8",
   "metadata": {
    "papermill": {
     "duration": 0.013179,
     "end_time": "2019-09-24T09:49:21.866509",
     "exception": false,
     "start_time": "2019-09-24T09:49:21.853330",
     "status": "completed"
    },
    "tags": [
     "injected-parameters"
    ]
   },
   "outputs": [],
   "source": [
    "# Parameters\n",
    "year = 2017\n"
   ]
  },
  {
   "cell_type": "code",
   "execution_count": null,
   "id": "f3aca4a0",
   "metadata": {
    "papermill": {
     "duration": 1.232749,
     "end_time": "2019-09-24T09:49:23.102994",
     "exception": false,
     "start_time": "2019-09-24T09:49:21.870245",
     "status": "completed"
    }
   },
   "outputs": [],
   "source": [
    "from plots import sundial_plot"
   ]
  },
  {
   "cell_type": "markdown",
   "id": "637ec8d6",
   "metadata": {
    "papermill": {
     "duration": 0.04115,
     "end_time": "2019-09-24T09:49:23.147805",
     "exception": false,
     "start_time": "2019-09-24T09:49:23.106655",
     "status": "completed"
    }
   },
   "source": [
    "## World Population"
   ]
  },
  {
   "cell_type": "code",
   "execution_count": null,
   "id": "07c29bd8",
   "metadata": {
    "papermill": {
     "duration": 1.66921,
     "end_time": "2019-09-24T09:49:24.825874",
     "exception": false,
     "start_time": "2019-09-24T09:49:23.156664",
     "status": "completed"
    }
   },
   "outputs": [],
   "source": [
    "sundial_plot('SP.POP.TOTL', 'World Population', year)"
   ]
  },
  {
   "cell_type": "markdown",
   "id": "2dff14b2",
   "metadata": {
    "papermill": {
     "duration": 0.065791,
     "end_time": "2019-09-24T09:49:24.957787",
     "exception": false,
     "start_time": "2019-09-24T09:49:24.891996",
     "status": "completed"
    }
   },
   "source": [
    "## Gross Domestic Product (current USD)"
   ]
  },
  {
   "cell_type": "code",
   "execution_count": null,
   "id": "9f6da045",
   "metadata": {
    "papermill": {
     "duration": 0.457098,
     "end_time": "2019-09-24T09:49:25.475339",
     "exception": false,
     "start_time": "2019-09-24T09:49:25.018241",
     "status": "completed"
    }
   },
   "outputs": [],
   "source": [
    "sundial_plot('NY.GDP.MKTP.CD', 'Gross Domestic Product', year)"
   ]
  }
 ],
 "metadata": {
  "jupytext": {
   "formats": "ipynb,md"
  },
  "kernelspec": {
   "display_name": "Python 3 (ipykernel)",
   "language": "python",
   "name": "python3"
  }
 },
 "nbformat": 4,
 "nbformat_minor": 5
}
